{
 "cells": [
  {
   "cell_type": "code",
   "execution_count": null,
   "metadata": {},
   "outputs": [],
   "source": [
    "import ../data\n",
    "import pandas as pd \n",
    "import numpy as np\n",
    "import os\n",
    "import datetime\n",
    "import matplotlib.pyplot as plt\n",
    "import datetime\n",
    "import math\n",
    "from sklearn.neighbors import KNeighborsClassifier\n",
    "from sklearn.cluster import KMeans\n",
    "from scipy.sparse import csgraph\n",
    "from sklearn import neighbors\n",
    "plt.rcParams[\"figure.figsize\"] = (40,6)\n"
   ]
  },
  {
   "cell_type": "code",
   "execution_count": null,
   "metadata": {},
   "outputs": [],
   "source": [
    "train_data = new_data[[\"acne\",\"backache\",\"bloating\",\"cramp\",\"dizzy\",\"headache\",\"mood\",\"sore\"]].values\n",
    "train_truth = new_data[[\"user_id\",\"stage\"]].values\n",
    "Sum_of_squared_distances = []\n",
    "kmeans = [KMeans(n_clusters=i) for i in Nc]\n",
    "K = range(4,20)\n",
    "for k in K:\n",
    "    km = KMeans(n_clusters=k)\n",
    "    km = km.fit(train_data)\n",
    "    Sum_of_squared_distances.append(km.inertia_)\n",
    "plt.plot(K, Sum_of_squared_distances, 'bx-')\n",
    "plt.xlabel('k')\n",
    "plt.ylabel('Distortion')\n",
    "plt.title('The Elbow Method showing the optimal k')\n",
    "plt.show()\n"
   ]
  },
  {
   "cell_type": "code",
   "execution_count": null,
   "metadata": {},
   "outputs": [],
   "source": [
    "train_data = new_data[[\"acne\",\"backache\",\"bloating\",\"cramp\",\"dizzy\",\"headache\",\"mood\",\"sore\"]].values\n",
    "train_truth = new_data[[\"user_id\",\"stage\"]].values\n",
    "kmeans = KMeans(n_clusters=8, random_state=0).fit(train_data)\n",
    "\n",
    "# !! Get the indices of the points for each corresponding cluster\n",
    "mydict = {i: np.where(kmeans.labels_ == i)[0] for i in range(kmeans.n_clusters)}\n",
    "\n",
    "# Transform the dictionary into list\n",
    "dictlist = []\n",
    "for key, value in mydict.items():\n",
    "    dictlist.append(len(value))\n",
    "    \n",
    "print(\"Total points\")\n",
    "print(len(train_data))\n",
    "\n",
    "print(\"Number of points in each cluster\")\n",
    "arr = []\n",
    "for i in range(len(dictlist)):\n",
    "    arr.append([int(dictlist[i]),kmeans.cluster_centers_[i]])\n",
    "arr = sorted(arr,key=lambda x: x[0])\n",
    "for i in arr:\n",
    "    print (str(i[0]) + \" \" + str(i[1]))\n",
    "    plt.plot(i[1])\n",
    "\n",
    "plt.grid()"
   ]
  },
  {
   "cell_type": "code",
   "execution_count": null,
   "metadata": {},
   "outputs": [],
   "source": [
    "sorted(new_data[\"cycle_length_initial\"].unique())"
   ]
  },
  {
   "cell_type": "code",
   "execution_count": null,
   "metadata": {},
   "outputs": [],
   "source": []
  },
  {
   "cell_type": "code",
   "execution_count": null,
   "metadata": {},
   "outputs": [],
   "source": [
    "i = 28\n",
    "filter_data = new_data.loc[new_data.cycle_length_initial==i]\n",
    "filter_data[\"nstage\"] = np.floor(filter_data['stage'] * i)\n",
    "transformed_data = filter_data.groupby(['nstage'], as_index=False).mean()\n",
    "\n",
    "fig, axs = plt.subplots(3,1)\n",
    "\n",
    "transformed_data['cramp'].plot(ax=axs[0])\n",
    "transformed_data['mood'].plot(ax=axs[1])\n",
    "transformed_data['bloating'].plot(ax=axs[2])\n",
    "\n",
    "print(new_data[new_data.cycle_length_initial==i][\"period_length_initial\"].mean())\n",
    "plt.show()"
   ]
  },
  {
   "cell_type": "code",
   "execution_count": null,
   "metadata": {},
   "outputs": [],
   "source": [
    "i = 35\n",
    "filter_data = new_data.loc[new_data.cycle_length_initial==i]\n",
    "filter_data[\"nstage\"] = np.floor(filter_data['stage'] * i)\n",
    "transformed_data = filter_data.groupby(['nstage'], as_index=False).mean()\n",
    "\n",
    "fig, axs = plt.subplots(3,1)\n",
    "\n",
    "transformed_data['cramp'].plot(ax=axs[0])\n",
    "transformed_data['mood'].plot(ax=axs[1])\n",
    "transformed_data['bloating'].plot(ax=axs[2])\n",
    "\n",
    "\n",
    "print(new_data[new_data.cycle_length_initial==i][\"period_length_initial\"].mean())\n",
    "plt.show()"
   ]
  }
 ],
 "metadata": {
  "kernelspec": {
   "display_name": "Python 3",
   "language": "python",
   "name": "python3"
  }
 },
 "nbformat": 4,
 "nbformat_minor": 2
}
